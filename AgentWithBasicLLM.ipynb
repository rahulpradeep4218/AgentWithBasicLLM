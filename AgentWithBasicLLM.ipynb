{
 "cells": [
  {
   "cell_type": "code",
   "execution_count": 2,
   "metadata": {},
   "outputs": [],
   "source": [
    "from openai import OpenAI"
   ]
  },
  {
   "cell_type": "code",
   "execution_count": 28,
   "metadata": {},
   "outputs": [],
   "source": [
    "import re"
   ]
  },
  {
   "cell_type": "code",
   "execution_count": 3,
   "metadata": {},
   "outputs": [],
   "source": [
    "client = OpenAI()"
   ]
  },
  {
   "cell_type": "code",
   "execution_count": 4,
   "metadata": {},
   "outputs": [
    {
     "data": {
      "text/plain": [
       "\"Hello! I am an AI assistant, so I don't have feelings, but I'm here to help you. How can I assist you today?\""
      ]
     },
     "execution_count": 4,
     "metadata": {},
     "output_type": "execute_result"
    }
   ],
   "source": [
    "chat_completions = client.chat.completions.create(\n",
    "    model=\"gpt-3.5-turbo\",\n",
    "    messages=[{\"role\":\"user\", \"content\":\"Hello how are you\"}]\n",
    ")\n",
    "chat_completions.choices[0].message.content"
   ]
  },
  {
   "cell_type": "code",
   "execution_count": 19,
   "metadata": {},
   "outputs": [],
   "source": [
    "from typing import Any\n",
    "\n",
    "\n",
    "class Agent:\n",
    "    def __init__(self, message):\n",
    "        self.message = [{\"role\":\"system\", \"content\":message}]\n",
    "    \n",
    "    def __call__(self, message):\n",
    "        self.message.append({\"role\":\"user\", \"content\":message})\n",
    "        completions = self.execute()\n",
    "        self.message.append({\"role\":\"assistant\", \"content\":completions})\n",
    "        \n",
    "        return completions\n",
    "\n",
    "    def execute(self):\n",
    "        chat_completions = client.chat.completions.create(\n",
    "            model=\"gpt-3.5-turbo\",\n",
    "            messages = self.message\n",
    "        ) \n",
    "        return chat_completions.choices[0] .message.content  \n",
    "    \n",
    "\n"
   ]
  },
  {
   "cell_type": "code",
   "execution_count": 55,
   "metadata": {},
   "outputs": [],
   "source": [
    "prompt = \"\"\"\n",
    "You have to give the weight of the Phone given as input in a loop of Thought, Action, Pause and Observation.\n",
    "Each loop has exactly 1 action.\n",
    "The thought is your explanation of the answer you are going to give.\n",
    "The actions can be one of the following:\n",
    "1. Calculate: \n",
    "eg: Calculate: 3 + 2 / 4\n",
    "This returns the calculation of the given expression. Uses python to evaluate the expression. So floating point numbers are supported.\n",
    "\n",
    "2. Find_Weight_Phone:\n",
    "eg: Find_Weight_Phone: iPhone 14\n",
    "This returns the weight of the phone given as input. Weight is in grams.\n",
    "\n",
    "After the actions are chosen, Pause and return. The observation will be provided in the next input in the below format:\n",
    "Observation: <Observation message>\n",
    "\n",
    "Example of the complete flow:\n",
    "Find the weight of the phone iPhone 15\n",
    "\n",
    "First your message: I need to find the weight of the phone iPhone 15. Action: Find_Weight_Phone: iPhone 15\n",
    "Then Pause\n",
    "User will send the message: Observation: Weight of phone iPhone 15 = 171 grams\n",
    "\n",
    "Give the output as: Weight of phone iPhone 15 is 171 grams\n",
    "\n",
    "\"\"\".strip()"
   ]
  },
  {
   "cell_type": "code",
   "execution_count": 56,
   "metadata": {},
   "outputs": [],
   "source": [
    "ag = Agent(prompt)"
   ]
  },
  {
   "cell_type": "code",
   "execution_count": 36,
   "metadata": {},
   "outputs": [],
   "source": [
    "def Find_Weight_Phone(phone):\n",
    "    if phone in \"iPhone 14\":\n",
    "        weight =  172\n",
    "    elif phone in \"iPhone 15\":\n",
    "        weight = 171\n",
    "    elif phone in \"Samsung S23\":\n",
    "        weight = 168\n",
    "    elif phone in \"Samsung S24\":\n",
    "        weight = 167\n",
    "        \n",
    "    return f\"Weight of phone is {weight}\""
   ]
  },
  {
   "cell_type": "code",
   "execution_count": 50,
   "metadata": {},
   "outputs": [],
   "source": [
    "def Calculate(expr):\n",
    "    return f\"Calculation result is : {eval(expr)}\"\n"
   ]
  },
  {
   "cell_type": "code",
   "execution_count": 52,
   "metadata": {},
   "outputs": [
    {
     "data": {
      "text/plain": [
       "'Calculation result is : 3.5'"
      ]
     },
     "execution_count": 52,
     "metadata": {},
     "output_type": "execute_result"
    }
   ],
   "source": [
    "Calculate(\"2 + 5 - 7 / 2\")"
   ]
  },
  {
   "cell_type": "code",
   "execution_count": 21,
   "metadata": {},
   "outputs": [
    {
     "data": {
      "text/plain": [
       "'Thought: I need to find the weight of the iPhone 15.\\nAction: Find_Weight_Phone: iPhone 15\\nPause'"
      ]
     },
     "execution_count": 21,
     "metadata": {},
     "output_type": "execute_result"
    }
   ],
   "source": [
    "completions = ag(\"Find the weight of iPhone 15\")\n",
    "completions"
   ]
  },
  {
   "cell_type": "code",
   "execution_count": 22,
   "metadata": {},
   "outputs": [
    {
     "data": {
      "text/plain": [
       "171"
      ]
     },
     "execution_count": 22,
     "metadata": {},
     "output_type": "execute_result"
    }
   ],
   "source": [
    "Find_Weight_Phone(\"iPhone 15\")"
   ]
  },
  {
   "cell_type": "code",
   "execution_count": 23,
   "metadata": {},
   "outputs": [
    {
     "data": {
      "text/plain": [
       "'Weight of phone iPhone 15 is 171 grams'"
      ]
     },
     "execution_count": 23,
     "metadata": {},
     "output_type": "execute_result"
    }
   ],
   "source": [
    "response = f\"Observation: Weight of phone: iPhone 15 = 171\"\n",
    "completions = ag(response)\n",
    "completions"
   ]
  },
  {
   "cell_type": "code",
   "execution_count": 24,
   "metadata": {},
   "outputs": [],
   "source": [
    "available_fns = {\"Find_Weight_Phone\": Find_Weight_Phone, \"Calculate\": Calculate}"
   ]
  },
  {
   "cell_type": "code",
   "execution_count": 26,
   "metadata": {},
   "outputs": [
    {
     "data": {
      "text/plain": [
       "171"
      ]
     },
     "execution_count": 26,
     "metadata": {},
     "output_type": "execute_result"
    }
   ],
   "source": [
    "available_fns[\"Find_Weight_Phone\"](\"iPhone 15\")"
   ]
  },
  {
   "cell_type": "code",
   "execution_count": 31,
   "metadata": {},
   "outputs": [
    {
     "name": "stdout",
     "output_type": "stream",
     "text": [
      "action : Find_Weight_Phone and action input : iPhone 15\n"
     ]
    }
   ],
   "source": [
    "sample_completions = \"Thought: I need to find the weight of the iPhone 15.\\nAction: Find_Weight_Phone: iPhone 15\\nPause\"\n",
    "action_re = re.compile(\"^Action: (\\w+): (.*)$\")\n",
    "action_matches = action_re.match(sample_completions.split(\"\\n\")[1])\n",
    "action, action_input = action_matches.groups()\n",
    "print(f\"action : {action} and action input : {action_input}\")"
   ]
  },
  {
   "cell_type": "code",
   "execution_count": 35,
   "metadata": {},
   "outputs": [],
   "source": [
    "test_arr = []\n",
    "if test_arr:\n",
    "    print(\"Not empty\")"
   ]
  },
  {
   "cell_type": "code",
   "execution_count": 44,
   "metadata": {},
   "outputs": [],
   "source": [
    "def agent_perform(message, max_turns):\n",
    "    ag = Agent(prompt)\n",
    "    inp = message\n",
    "    i = 0\n",
    "    while i < max_turns:\n",
    "        completions = ag(inp)\n",
    "        print(completions)\n",
    "        actions = [action_re.match(a) for a in completions.split(\"\\n\") if action_re.match(a)]\n",
    "        if actions:\n",
    "            action, action_input = actions[0].groups()\n",
    "            if action in available_fns.keys():\n",
    "                response = f\"Observation: {available_fns[action](action_input)}\"\n",
    "                inp = response\n",
    "            else:\n",
    "                return \"Exception happened: unidentified actions\"\n",
    "        else:\n",
    "            return\n",
    "        i += 1"
   ]
  },
  {
   "cell_type": "code",
   "execution_count": 37,
   "metadata": {},
   "outputs": [
    {
     "data": {
      "text/plain": [
       "dict_keys(['Find_Weight_Phone', 'Calculate'])"
      ]
     },
     "execution_count": 37,
     "metadata": {},
     "output_type": "execute_result"
    }
   ],
   "source": [
    "available_fns.keys()"
   ]
  },
  {
   "cell_type": "code",
   "execution_count": 39,
   "metadata": {},
   "outputs": [
    {
     "name": "stdout",
     "output_type": "stream",
     "text": [
      "success\n"
     ]
    }
   ],
   "source": [
    "if \"Find_Weight_Phone\" in available_fns.keys():\n",
    "    print(\"success\")\n",
    "else:\n",
    "    print(\"failure\")"
   ]
  },
  {
   "cell_type": "code",
   "execution_count": 47,
   "metadata": {},
   "outputs": [
    {
     "name": "stdout",
     "output_type": "stream",
     "text": [
      "Thought: I need to find the weight of iPhone 15.\n",
      "Action: Find_Weight_Phone: iPhone 15\n",
      "Pause\n",
      "Weight of iPhone 15 is 171 grams\n"
     ]
    }
   ],
   "source": [
    "input_to_test = \"Find the weight of iPhone 15\"\n",
    "max_turns = 5\n",
    "agent_perform(input_to_test, max_turns)"
   ]
  },
  {
   "cell_type": "code",
   "execution_count": 48,
   "metadata": {},
   "outputs": [
    {
     "name": "stdout",
     "output_type": "stream",
     "text": [
      "I need to find the weight of the phone Samsung S24. \n",
      "\n",
      "Action: Find_Weight_Phone: Samsung S24\n",
      "\n",
      "Pause\n",
      "Weight of phone Samsung S24 is 167 grams\n"
     ]
    }
   ],
   "source": [
    "input_to_test = \"Find the weight of Samsung S24\"\n",
    "max_turns = 5\n",
    "agent_perform(input_to_test, max_turns)"
   ]
  },
  {
   "cell_type": "code",
   "execution_count": 58,
   "metadata": {},
   "outputs": [
    {
     "name": "stdout",
     "output_type": "stream",
     "text": [
      "I need to find the average of the weight of Samsung S24 and iPhone 15. Action: Calculate: (160 + 171) / 2\n",
      "Please Pause.\n"
     ]
    }
   ],
   "source": [
    "input_to_test = \"Find the average of weight of Samsung S24 and iPhone 15\"\n",
    "max_turns = 5\n",
    "agent_perform(input_to_test, max_turns)"
   ]
  },
  {
   "cell_type": "code",
   "execution_count": null,
   "metadata": {},
   "outputs": [],
   "source": []
  }
 ],
 "metadata": {
  "kernelspec": {
   "display_name": "Python 3",
   "language": "python",
   "name": "python3"
  },
  "language_info": {
   "codemirror_mode": {
    "name": "ipython",
    "version": 3
   },
   "file_extension": ".py",
   "mimetype": "text/x-python",
   "name": "python",
   "nbconvert_exporter": "python",
   "pygments_lexer": "ipython3",
   "version": "3.10.13"
  }
 },
 "nbformat": 4,
 "nbformat_minor": 2
}
